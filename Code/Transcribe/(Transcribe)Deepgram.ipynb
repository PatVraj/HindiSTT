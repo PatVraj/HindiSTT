{
 "cells": [
  {
   "cell_type": "code",
   "execution_count": null,
   "metadata": {},
   "outputs": [],
   "source": [
    "%pip install \"deepgram-sdk>=3.*,<4.0\"\n",
    "%pip install python-dotenv"
   ]
  },
  {
   "cell_type": "code",
   "execution_count": null,
   "metadata": {},
   "outputs": [],
   "source": [
    "from deepgram import DeepgramClient, PrerecordedOptions\n",
    "\n",
    "# The API key we created in step 3\n",
    "DEEPGRAM_API_KEY = 'NULL'\n",
    "\n",
    "# Replace with your file path\n",
    "PATH_TO_FILE = '../Test/PM Shri Narendra Modis message to the people of Varanasi.wav'\n",
    "\n",
    "def main():\n",
    "    deepgram = DeepgramClient(DEEPGRAM_API_KEY)\n",
    "\n",
    "    with open(PATH_TO_FILE, 'rb') as buffer_data:\n",
    "        payload = { 'buffer': buffer_data }\n",
    "\n",
    "        options = PrerecordedOptions(\n",
    "            punctuate=True, model=\"nova-2\", language=\"hi\"\n",
    "        )\n",
    "\n",
    "        print('Requesting transcript...')\n",
    "        print('Your file may take up to a couple minutes to process.')\n",
    "        print('While you wait, did you know that Deepgram accepts over 40 audio file formats? Even MP4s.')\n",
    "        print('To learn more about customizing your transcripts check out developers.deepgram.com')\n",
    "\n",
    "        response = deepgram.listen.prerecorded.v('1').transcribe_file(payload, options)\n",
    "        print(response.to_json(indent=4))\n",
    "\n",
    "if __name__ == '__main__':\n",
    "    main()"
   ]
  },
  {
   "cell_type": "code",
   "execution_count": null,
   "metadata": {},
   "outputs": [],
   "source": [
    "# main.py (python example)\n",
    "\n",
    "import os\n",
    "from dotenv import load_dotenv\n",
    "\n",
    "from deepgram import (\n",
    "    DeepgramClient,\n",
    "    PrerecordedOptions,\n",
    "    FileSource,\n",
    ")\n",
    "\n",
    "load_dotenv()\n",
    "\n",
    "# Path to the audio file\n",
    "AUDIO_FILE = \"../Test/PM Shri Narendra Modis message to the people of Varanasi.wav\"\n",
    "\n",
    "API_KEY = os.getenv(\"NULL\")\n",
    "\n",
    "\n",
    "def main():\n",
    "    try:\n",
    "        # STEP 1 Create a Deepgram client using the API key\n",
    "        deepgram = DeepgramClient(API_KEY)\n",
    "\n",
    "        with open(AUDIO_FILE, \"rb\") as file:\n",
    "            buffer_data = file.read()\n",
    "\n",
    "        payload: FileSource = {\n",
    "            \"buffer\": buffer_data,\n",
    "        }\n",
    "\n",
    "        #STEP 2: Configure Deepgram options for audio analysis\n",
    "        options = PrerecordedOptions(\n",
    "            model=\"nova-2\", #nova-2\n",
    "            smart_format=True,\n",
    "        )\n",
    "\n",
    "        # STEP 3: Call the transcribe_file method with the text payload and options\n",
    "        response = deepgram.listen.prerecorded.v(\"1\").transcribe_file(payload, options)\n",
    "\n",
    "        # STEP 4: Print the response\n",
    "        print(response.to_json(indent=4))\n",
    "\n",
    "    except Exception as e:\n",
    "        print(f\"Exception: {e}\")\n",
    "\n",
    "\n",
    "if __name__ == \"__main__\":\n",
    "    main()\n"
   ]
  }
 ],
 "metadata": {
  "kernelspec": {
   "display_name": "base",
   "language": "python",
   "name": "python3"
  },
  "language_info": {
   "codemirror_mode": {
    "name": "ipython",
    "version": 3
   },
   "file_extension": ".py",
   "mimetype": "text/x-python",
   "name": "python",
   "nbconvert_exporter": "python",
   "pygments_lexer": "ipython3",
   "version": "3.11.4"
  }
 },
 "nbformat": 4,
 "nbformat_minor": 2
}
