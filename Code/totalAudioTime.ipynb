{
 "cells": [
  {
   "cell_type": "code",
   "execution_count": 1,
   "metadata": {},
   "outputs": [
    {
     "name": "stdout",
     "output_type": "stream",
     "text": [
      "The total audio time in the directory is 6532.05 minutes.\n"
     ]
    }
   ],
   "source": [
    "import os\n",
    "from pydub import AudioSegment\n",
    "\n",
    "def getTime(directory):\n",
    "    total_minutes = 0\n",
    "    \n",
    "    for filename in os.listdir(directory):\n",
    "        if filename.endswith(\".mp3\") or filename.endswith(\".wav\") or filename.endswith(\".ogg\"):\n",
    "            file_path = os.path.join(directory, filename)\n",
    "            audio = AudioSegment.from_file(file_path)\n",
    "            total_minutes += audio.duration_seconds / 60\n",
    "    \n",
    "    return total_minutes\n",
    "\n",
    "\n",
    "dir = \"../Audio\"\n",
    "totalTime = getTime(dir)\n",
    "print(f\"The total audio time in the directory is {totalTime:.2f} minutes.\")"
   ]
  },
  {
   "cell_type": "code",
   "execution_count": 2,
   "metadata": {},
   "outputs": [
    {
     "name": "stdout",
     "output_type": "stream",
     "text": [
      "The total audio time in the directory is 3349.64 minutes.\n"
     ]
    }
   ],
   "source": [
    "from concurrent.futures import ThreadPoolExecutor\n",
    "from pydub import AudioSegment\n",
    "import os\n",
    "\n",
    "def get_total_audio_time(directory):\n",
    "    total_minutes = 0\n",
    "    \n",
    "    with ThreadPoolExecutor() as executor:\n",
    "        audio_files = [os.path.join(directory, filename) for filename in os.listdir(directory) if is_audio_file(filename)]\n",
    "        # Process every other file\n",
    "        results = executor.map(get_audio_duration, audio_files[::2])\n",
    "        total_minutes = sum(results)\n",
    "    \n",
    "    return total_minutes\n",
    "\n",
    "def get_audio_duration(file_path):\n",
    "    audio = AudioSegment.from_file(file_path)\n",
    "    return audio.duration_seconds / 60\n",
    "\n",
    "def is_audio_file(filename):\n",
    "    return filename.endswith(\".mp3\") or filename.endswith(\".wav\") or filename.endswith(\".ogg\")\n",
    "\n",
    "if __name__ == \"__main__\":\n",
    "    dir = \"../Audio\"\n",
    "    totalTime = get_total_audio_time(dir)\n",
    "    print(f\"The total audio time in the directory is {totalTime:.2f} minutes.\")"
   ]
  }
 ],
 "metadata": {
  "kernelspec": {
   "display_name": "base",
   "language": "python",
   "name": "python3"
  },
  "language_info": {
   "codemirror_mode": {
    "name": "ipython",
    "version": 3
   },
   "file_extension": ".py",
   "mimetype": "text/x-python",
   "name": "python",
   "nbconvert_exporter": "python",
   "pygments_lexer": "ipython3",
   "version": "3.11.4"
  }
 },
 "nbformat": 4,
 "nbformat_minor": 2
}
