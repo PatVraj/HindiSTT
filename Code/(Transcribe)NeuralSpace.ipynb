{
 "cells": [
  {
   "cell_type": "code",
   "execution_count": 4,
   "metadata": {},
   "outputs": [
    {
     "name": "stdout",
     "output_type": "stream",
     "text": [
      "Note: you may need to restart the kernel to use updated packages.\n",
      "b23a1975-adde-4bb3-a492-ae889957e5b2\n",
      "{'success': True, 'message': 'Data fetched successfully', 'data': {'timestamp': 1709530085351, 'filename': 'PM Shri Narendra Modis message to the people of Varanasi.wav', 'jobId': 'b23a1975-adde-4bb3-a492-ae889957e5b2', 'params': {'file_transcription': {'language_id': 'hi', 'mode': 'advanced'}, 'translation': {'target_languages': ['en']}}, 'status': 'Queued', 'audioDuration': 694.044438, 'messsage': '', 'progress': ['Queued']}}\n"
     ]
    }
   ],
   "source": [
    "%pip install neuralspace -q\n",
    "import neuralspace as ns\n",
    "\n",
    "vai = ns.VoiceAI(api_key='sk_b77fb699c6bf381b0705e554211d49214b450f35fe3aff5c8bc377cb2a6bc840')\n",
    "\n",
    "# Setup job configuration\n",
    "config = {\n",
    "    \"file_transcription\": {\n",
    "        \"language_id\": \"hi\",\n",
    "        \"mode\": \"advanced\",\n",
    "    },\n",
    "    \"translation\": {\n",
    "        \"target_languages\": [\n",
    "            \"en\"\n",
    "        ]\n",
    "    }\n",
    "}\n",
    "\n",
    "job_id = vai.transcribe(file='../Test/PM Shri Narendra Modis message to the people of Varanasi.wav', config=config)\n",
    "print(job_id)\n",
    "result = vai.get_job_status(job_id) \n",
    "print(result)"
   ]
  }
 ],
 "metadata": {
  "kernelspec": {
   "display_name": "base",
   "language": "python",
   "name": "python3"
  },
  "language_info": {
   "codemirror_mode": {
    "name": "ipython",
    "version": 3
   },
   "file_extension": ".py",
   "mimetype": "text/x-python",
   "name": "python",
   "nbconvert_exporter": "python",
   "pygments_lexer": "ipython3",
   "version": "3.11.4"
  }
 },
 "nbformat": 4,
 "nbformat_minor": 2
}
