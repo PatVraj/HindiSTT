{
 "cells": [
  {
   "cell_type": "code",
   "execution_count": 1,
   "metadata": {},
   "outputs": [
    {
     "name": "stdout",
     "output_type": "stream",
     "text": [
      "Requirement already satisfied: azure-cognitiveservices-speech in /Users/vrajpatel/miniconda3/lib/python3.11/site-packages (1.35.0)\n",
      "Note: you may need to restart the kernel to use updated packages.\n"
     ]
    }
   ],
   "source": [
    "%pip install azure-cognitiveservices-speech"
   ]
  },
  {
   "cell_type": "code",
   "execution_count": 2,
   "metadata": {},
   "outputs": [
    {
     "ename": "AttributeError",
     "evalue": "'EventSignal' object has no attribute 'disconnect'",
     "output_type": "error",
     "traceback": [
      "\u001b[0;31m---------------------------------------------------------------------------\u001b[0m",
      "\u001b[0;31mAttributeError\u001b[0m                            Traceback (most recent call last)",
      "Cell \u001b[0;32mIn[2], line 48\u001b[0m\n\u001b[1;32m     45\u001b[0m subscription_key \u001b[38;5;241m=\u001b[39m \u001b[38;5;124m\"\u001b[39m\u001b[38;5;124m4f69ab776fce44faa8650bea583e3f75\u001b[39m\u001b[38;5;124m\"\u001b[39m\n\u001b[1;32m     46\u001b[0m region \u001b[38;5;241m=\u001b[39m \u001b[38;5;124m\"\u001b[39m\u001b[38;5;124meastus\u001b[39m\u001b[38;5;124m\"\u001b[39m\n\u001b[0;32m---> 48\u001b[0m \u001b[43mtranscribe_hindi_audio\u001b[49m\u001b[43m(\u001b[49m\u001b[43maudio_file_path\u001b[49m\u001b[43m,\u001b[49m\u001b[43m \u001b[49m\u001b[43msubscription_key\u001b[49m\u001b[43m,\u001b[49m\u001b[43m \u001b[49m\u001b[43mregion\u001b[49m\u001b[43m)\u001b[49m\n",
      "Cell \u001b[0;32mIn[2], line 35\u001b[0m, in \u001b[0;36mtranscribe_hindi_audio\u001b[0;34m(audio_file_path, subscription_key, region)\u001b[0m\n\u001b[1;32m     32\u001b[0m         \u001b[38;5;28;01mbreak\u001b[39;00m\n\u001b[1;32m     34\u001b[0m speech_recognizer\u001b[38;5;241m.\u001b[39mstop_continuous_recognition()\n\u001b[0;32m---> 35\u001b[0m \u001b[43mspeech_recognizer\u001b[49m\u001b[38;5;241;43m.\u001b[39;49m\u001b[43mrecognized\u001b[49m\u001b[38;5;241;43m.\u001b[39;49m\u001b[43mdisconnect\u001b[49m(recognized_callback)\n\u001b[1;32m     37\u001b[0m \u001b[38;5;66;03m# Print the combined transcript\u001b[39;00m\n\u001b[1;32m     38\u001b[0m \u001b[38;5;28mprint\u001b[39m(\u001b[38;5;124m\"\u001b[39m\u001b[38;5;124mCombined Transcript:\u001b[39m\u001b[38;5;124m\"\u001b[39m, transcribed_text\u001b[38;5;241m.\u001b[39mstrip())\n",
      "\u001b[0;31mAttributeError\u001b[0m: 'EventSignal' object has no attribute 'disconnect'"
     ]
    }
   ],
   "source": [
    "import os\n",
    "import azure.cognitiveservices.speech as speechsdk\n",
    "\n",
    "def transcribe_hindi_audio(audio_file_path, subscription_key, region):\n",
    "    # Set up the speech config\n",
    "    speech_config = speechsdk.SpeechConfig(subscription=subscription_key, region=region)\n",
    "    speech_config.speech_recognition_language = \"hi-IN\"  # Hindi language code\n",
    "\n",
    "    # Set up the audio input\n",
    "    audio_input = speechsdk.AudioConfig(filename=audio_file_path)\n",
    "\n",
    "    # Create the speech recognizer\n",
    "    speech_recognizer = speechsdk.SpeechRecognizer(speech_config=speech_config, audio_config=audio_input)\n",
    "\n",
    "    # Initialize the transcribed text\n",
    "    transcribed_text = \"\"\n",
    "\n",
    "    # Set up the callback for continuous recognition\n",
    "    def recognized_callback(evt):\n",
    "        nonlocal transcribed_text\n",
    "        transcribed_text += evt.result.text + \" \"\n",
    "\n",
    "    # Perform continuous speech recognition\n",
    "    speech_recognizer.recognized.connect(recognized_callback)\n",
    "    speech_recognizer.start_continuous_recognition()\n",
    "\n",
    "    # Wait for recognition to complete (use a timeout or other condition)\n",
    "    # For demonstration purposes, I'll use a simple loop here\n",
    "    while True:\n",
    "        user_input = input(\"Press Enter to stop recognition or type 'exit': \")\n",
    "        if user_input.lower() == \"exit\":\n",
    "            break\n",
    "\n",
    "    speech_recognizer.stop_continuous_recognition()\n",
    "    speech_recognizer.recognized.disconnect(recognized_callback)\n",
    "\n",
    "    # Print the combined transcript\n",
    "    print(\"Combined Transcript:\", transcribed_text.strip())\n",
    "\n",
    "if __name__ == \"__main__\":\n",
    "    # Replace with the path to your Hindi audio file\n",
    "    audio_file_path = \"../Indore, Madhya Pradesh /trimmed16Hz.wav\"\n",
    "\n",
    "    # Replace with your subscription key and region\n",
    "    subscription_key = \"4f69ab776fce44faa8650bea583e3f75\"\n",
    "    region = \"eastus\"\n",
    "\n",
    "    transcribe_hindi_audio(audio_file_path, subscription_key, region)\n"
   ]
  }
 ],
 "metadata": {
  "kernelspec": {
   "display_name": "base",
   "language": "python",
   "name": "python3"
  },
  "language_info": {
   "codemirror_mode": {
    "name": "ipython",
    "version": 3
   },
   "file_extension": ".py",
   "mimetype": "text/x-python",
   "name": "python",
   "nbconvert_exporter": "python",
   "pygments_lexer": "ipython3",
   "version": "3.11.4"
  }
 },
 "nbformat": 4,
 "nbformat_minor": 2
}
