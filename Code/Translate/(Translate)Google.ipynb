{
 "cells": [
  {
   "cell_type": "code",
   "execution_count": 15,
   "metadata": {},
   "outputs": [
    {
     "name": "stdout",
     "output_type": "stream",
     "text": [
      "Note: you may need to restart the kernel to use updated packages.\n"
     ]
    }
   ],
   "source": [
    "%pip install google-cloud-translate -q\n",
    "\n",
    "import os\n",
    "from google.cloud import translate_v2 as translate\n",
    "\n",
    "# Set the path to your service account JSON key file (more secure than hardcoding)\n",
    "os.environ['GOOGLE_APPLICATION_CREDENTIALS'] = '../key/avian-cable-414723-a82dfe62162f.json'\n",
    "\n",
    "def translate_text(input_text, target_language='en'):\n",
    "    \"\"\"Translates input_text using the Google Cloud Translation API.\n",
    "    Args:\n",
    "        input_text: The text to be translated.\n",
    "        target_language: The target language code (defaults to 'en' for English).\n",
    "    Returns:\n",
    "        Translated text or None if translation fails.\n",
    "    \"\"\"\n",
    "    translate_client = translate.Client()  # Create the client using environment variable\n",
    "\n",
    "    try:\n",
    "        result = translate_client.translate(input_text, target_language=target_language)\n",
    "        translated_text = result['translatedText']  # Extract the correct field\n",
    "        return translated_text\n",
    "    except Exception as e:\n",
    "        print(f\"Error translating: {e}\")\n",
    "        return None"
   ]
  },
  {
   "cell_type": "code",
   "execution_count": 16,
   "metadata": {},
   "outputs": [
    {
     "name": "stdout",
     "output_type": "stream",
     "text": [
      "Translation successful! Output saved in ../Indore, Madhya Pradesh /Translations/Google/WhGo.txt\n"
     ]
    }
   ],
   "source": [
    "def main():\n",
    "    input_file = '../Indore, Madhya Pradesh /Transcriptions/Whisper.txt'\n",
    "    output_file = '../Indore, Madhya Pradesh /Translations/Google/WhGo.txt'\n",
    "    try:\n",
    "        with open(input_file, 'r', encoding='utf-8') as f:\n",
    "            hindi_text = f.read().strip()  # Read the content from input.txt\n",
    "\n",
    "        translated_result = translate_text(hindi_text)\n",
    "\n",
    "        if translated_result:\n",
    "            with open(output_file, 'w', encoding='utf-8') as f:\n",
    "                f.write(translated_result)  # Write the translated output to output.txt\n",
    "            print(f\"Translation successful! Output saved in {output_file}\")\n",
    "        else:\n",
    "            print(\"Translation failed. Check your credentials or input text.\")\n",
    "    except FileNotFoundError:\n",
    "        print(f\"File '{input_file}' not found. Make sure it exists in the same directory.\")\n",
    "\n",
    "if __name__ == \"__main__\":\n",
    "    main()"
   ]
  }
 ],
 "metadata": {
  "kernelspec": {
   "display_name": "base",
   "language": "python",
   "name": "python3"
  },
  "language_info": {
   "codemirror_mode": {
    "name": "ipython",
    "version": 3
   },
   "file_extension": ".py",
   "mimetype": "text/x-python",
   "name": "python",
   "nbconvert_exporter": "python",
   "pygments_lexer": "ipython3",
   "version": "3.11.4"
  }
 },
 "nbformat": 4,
 "nbformat_minor": 2
}
