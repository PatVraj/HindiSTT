{
 "cells": [
  {
   "cell_type": "code",
   "execution_count": 9,
   "metadata": {},
   "outputs": [
    {
     "name": "stdout",
     "output_type": "stream",
     "text": [
      "Translation complete. Translated text saved to: ../Indore, Madhya Pradesh /Translations/WhAz.txt\n"
     ]
    }
   ],
   "source": [
    "import requests\n",
    "import uuid\n",
    "import json\n",
    "\n",
    "def translate_hindi_to_english(hindi_text, subscription_key, location):\n",
    "    endpoint = \"https://api.cognitive.microsofttranslator.com\"\n",
    "    path = '/translate'\n",
    "    constructed_url = endpoint + path\n",
    "\n",
    "    params = {\n",
    "        'api-version': '3.0',\n",
    "        'from': 'hi',  # 'hi' for Hindi\n",
    "        'to': ['en']   # 'en' for English\n",
    "    }\n",
    "\n",
    "    headers = {\n",
    "        'Ocp-Apim-Subscription-Key': subscription_key,\n",
    "        'Ocp-Apim-Subscription-Region': location,\n",
    "        'Content-type': 'application/json',\n",
    "        'X-ClientTraceId': str(uuid.uuid4())\n",
    "    }\n",
    "\n",
    "    # You can pass more than one object in body.\n",
    "    body = [{'text': hindi_text}]\n",
    "\n",
    "    request = requests.post(constructed_url, params=params, headers=headers, json=body)\n",
    "    response = request.json()\n",
    "\n",
    "    translated_text = response[0]['translations'][0]['text']\n",
    "    return translated_text\n",
    "\n",
    "if __name__ == \"__main__\":\n",
    "    # Replace with your Translator Text API key and resource location\n",
    "    subscription_key = \"0317b91fb38e4cea93b8a7cad7e40375\"\n",
    "    location = \"eastus\"\n",
    "\n",
    "    # Path to the local .txt file containing Hindi text\n",
    "    input_file_path = \"../Indore, Madhya Pradesh /Transcriptions/Whisper.txt\"\n",
    "\n",
    "    # Path to save the translated English text\n",
    "    output_file_path = \"../Indore, Madhya Pradesh /Translations/WhAz.txt\"\n",
    "\n",
    "    # Read Hindi text from the file\n",
    "    with open(input_file_path, \"r\", encoding=\"utf-8\") as file:\n",
    "        hindi_text = file.read()\n",
    "\n",
    "    # Translate Hindi text to English\n",
    "    translated_text = translate_hindi_to_english(hindi_text, subscription_key, location)\n",
    "\n",
    "    # Save translated text to output file\n",
    "    with open(output_file_path, \"w\", encoding=\"utf-8\") as file:\n",
    "        file.write(translated_text)\n",
    "\n",
    "    print(\"Translation complete. Translated text saved to:\", output_file_path)\n"
   ]
  }
 ],
 "metadata": {
  "kernelspec": {
   "display_name": "base",
   "language": "python",
   "name": "python3"
  },
  "language_info": {
   "codemirror_mode": {
    "name": "ipython",
    "version": 3
   },
   "file_extension": ".py",
   "mimetype": "text/x-python",
   "name": "python",
   "nbconvert_exporter": "python",
   "pygments_lexer": "ipython3",
   "version": "3.11.4"
  }
 },
 "nbformat": 4,
 "nbformat_minor": 2
}
