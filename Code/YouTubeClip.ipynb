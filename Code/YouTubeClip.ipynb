{
 "cells": [
  {
   "cell_type": "code",
   "execution_count": 1,
   "metadata": {},
   "outputs": [],
   "source": [
    "import os\n",
    "from pytube import YouTube\n",
    "from pytube.exceptions import PytubeError\n",
    "import ffmpeg"
   ]
  },
  {
   "cell_type": "code",
   "execution_count": 2,
   "metadata": {},
   "outputs": [],
   "source": [
    "def initialize_youtube(url):\n",
    "    try:\n",
    "        yt = YouTube(url)\n",
    "        return yt\n",
    "    except (PytubeError, Exception) as e:\n",
    "        print(f\"Error initializing YouTube: {e}\")\n",
    "        return None"
   ]
  },
  {
   "cell_type": "code",
   "execution_count": 3,
   "metadata": {},
   "outputs": [],
   "source": [
    "def download_audio(yt, audio_folder_path):\n",
    "    try:\n",
    "        audio_stream = yt.streams.filter(only_audio=True).first()\n",
    "        if not audio_stream:\n",
    "            print(\"No audio stream found\")\n",
    "            return None\n",
    "\n",
    "        video_title = yt.title\n",
    "        filename = f\"{video_title}.wav\"\n",
    "        full_path = os.path.join(audio_folder_path, filename)\n",
    "\n",
    "        if os.path.exists(full_path):\n",
    "            print(f\"{filename} already exists. Skipping download.\")\n",
    "        else:\n",
    "            print(f\"Downloading audio: {filename}\")\n",
    "            audio_stream.download(output_path=audio_folder_path, filename=filename)\n",
    "            print(\"Download complete\")\n",
    "\n",
    "        return full_path\n",
    "\n",
    "    except (PytubeError, Exception) as e:\n",
    "        print(f\"Error downloading audio: {e}\")\n",
    "        return None"
   ]
  },
  {
   "cell_type": "code",
   "execution_count": 4,
   "metadata": {},
   "outputs": [],
   "source": [
    "def trim_audio(input_file, start_time, end_time, output_folder):\n",
    "    try:\n",
    "        video_title = os.path.splitext(os.path.basename(input_file))[0]\n",
    "        start_time_sec = sum(int(x) * 60 ** i for i, x in enumerate(reversed(start_time.split(':'))))\n",
    "        end_time_sec = sum(int(x) * 60 ** i for i, x in enumerate(reversed(end_time.split(':'))))\n",
    "\n",
    "        trimmed_filename = f\"trimmed_{start_time}-{end_time}_{video_title}.wav\"\n",
    "        trimmed_path = os.path.join(output_folder, trimmed_filename)\n",
    "\n",
    "        stream = ffmpeg.input(input_file)\n",
    "        audio = stream.audio\n",
    "        trimmed_audio = audio.filter('atrim', start=start_time_sec, end=end_time_sec)\n",
    "        trimmed_audio.output(trimmed_path).run()\n",
    "\n",
    "        print(f\"Trimmed audio saved as {trimmed_path}\")\n",
    "        return trimmed_filename\n",
    "\n",
    "    except Exception as e:\n",
    "        print(f\"Error trimming audio: {e}\")\n",
    "        return None"
   ]
  },
  {
   "cell_type": "code",
   "execution_count": 5,
   "metadata": {},
   "outputs": [
    {
     "name": "stdout",
     "output_type": "stream",
     "text": [
      "Downloading audio: PM Modi addresses Public Meeting at Indore, Madhya Pradesh.wav\n",
      "Download complete\n"
     ]
    },
    {
     "name": "stderr",
     "output_type": "stream",
     "text": [
      "ffmpeg version 6.1.1 Copyright (c) 2000-2023 the FFmpeg developers\n",
      "  built with Apple clang version 15.0.0 (clang-1500.1.0.2.5)\n",
      "  configuration: --prefix=/opt/homebrew/Cellar/ffmpeg/6.1.1_4 --enable-shared --enable-pthreads --enable-version3 --cc=clang --host-cflags= --host-ldflags='-Wl,-ld_classic' --enable-ffplay --enable-gnutls --enable-gpl --enable-libaom --enable-libaribb24 --enable-libbluray --enable-libdav1d --enable-libharfbuzz --enable-libjxl --enable-libmp3lame --enable-libopus --enable-librav1e --enable-librist --enable-librubberband --enable-libsnappy --enable-libsrt --enable-libssh --enable-libsvtav1 --enable-libtesseract --enable-libtheora --enable-libvidstab --enable-libvmaf --enable-libvorbis --enable-libvpx --enable-libwebp --enable-libx264 --enable-libx265 --enable-libxml2 --enable-libxvid --enable-lzma --enable-libfontconfig --enable-libfreetype --enable-frei0r --enable-libass --enable-libopencore-amrnb --enable-libopencore-amrwb --enable-libopenjpeg --enable-libopenvino --enable-libspeex --enable-libsoxr --enable-libzmq --enable-libzimg --disable-libjack --disable-indev=jack --enable-videotoolbox --enable-audiotoolbox --enable-neon\n",
      "  libavutil      58. 29.100 / 58. 29.100\n",
      "  libavcodec     60. 31.102 / 60. 31.102\n",
      "  libavformat    60. 16.100 / 60. 16.100\n",
      "  libavdevice    60.  3.100 / 60.  3.100\n",
      "  libavfilter     9. 12.100 /  9. 12.100\n",
      "  libswscale      7.  5.100 /  7.  5.100\n",
      "  libswresample   4. 12.100 /  4. 12.100\n",
      "  libpostproc    57.  3.100 / 57.  3.100\n",
      "Input #0, mov,mp4,m4a,3gp,3g2,mj2, from '../Test/PM Modi addresses Public Meeting at Indore, Madhya Pradesh.wav':\n",
      "  Metadata:\n",
      "    major_brand     : dash\n",
      "    minor_version   : 0\n",
      "    compatible_brands: iso6mp41\n",
      "    creation_time   : 2019-05-12T18:39:08.000000Z\n",
      "  Duration: 00:47:33.41, start: 0.000000, bitrate: 48 kb/s\n",
      "  Stream #0:0[0x1](und): Audio: aac (HE-AAC) (mp4a / 0x6134706D), 44100 Hz, stereo, fltp, 0 kb/s (default)\n",
      "    Metadata:\n",
      "      creation_time   : 2019-05-12T18:39:08.000000Z\n",
      "      handler_name    : ISO Media file produced by Google Inc. Created on: 05/12/2019.\n",
      "      vendor_id       : [0][0][0][0]\n",
      "Stream mapping:\n",
      "  Stream #0:0 (aac) -> atrim:default\n",
      "  atrim:default -> Stream #0:0 (pcm_s16le)\n",
      "Press [q] to stop, [?] for help\n",
      "Output #0, wav, to '../Test/trimmed_07:35-19:50_PM Modi addresses Public Meeting at Indore, Madhya Pradesh.wav':\n",
      "  Metadata:\n",
      "    major_brand     : dash\n",
      "    minor_version   : 0\n",
      "    compatible_brands: iso6mp41\n",
      "    ISFT            : Lavf60.16.100\n",
      "  Stream #0:0: Audio: pcm_s16le ([1][0][0][0] / 0x0001), 44100 Hz, stereo, s16, 1411 kb/s\n",
      "    Metadata:\n",
      "      encoder         : Lavc60.31.102 pcm_s16le\n",
      "size=   83200kB time=00:15:38.22 bitrate= 726.5kbits/s speed= 491x    \r"
     ]
    },
    {
     "name": "stdout",
     "output_type": "stream",
     "text": [
      "Trimmed audio saved as ../Test/trimmed_07:35-19:50_PM Modi addresses Public Meeting at Indore, Madhya Pradesh.wav\n",
      "Downloaded audio: trimmed_07:35-19:50_PM Modi addresses Public Meeting at Indore, Madhya Pradesh.wav\n"
     ]
    },
    {
     "name": "stderr",
     "output_type": "stream",
     "text": [
      "[out#0/wav @ 0x13680f060] video:0kB audio:126615kB subtitle:0kB other streams:0kB global headers:0kB muxing overhead: 0.000060%\n",
      "size=  126615kB time=00:19:49.97 bitrate= 871.6kbits/s speed= 478x    \n"
     ]
    }
   ],
   "source": [
    "def main():\n",
    "    youtube_url = \"https://www.youtube.com/embed/CSxBtZPfzfg\"\n",
    "    start_time = \"07:35\"\n",
    "    end_time = \"19:50\"\n",
    "    audio_folder = \"../Test\"\n",
    "\n",
    "    yt = initialize_youtube(youtube_url)\n",
    "    if yt:\n",
    "        full_audio_file = download_audio(yt, audio_folder)\n",
    "        if full_audio_file:\n",
    "            trimmed_file = trim_audio(full_audio_file, start_time, end_time, audio_folder)\n",
    "            if trimmed_file:\n",
    "                print(f\"Downloaded audio: {trimmed_file}\")\n",
    "\n",
    "if __name__ == \"__main__\":\n",
    "    main()"
   ]
  }
 ],
 "metadata": {
  "kernelspec": {
   "display_name": "base",
   "language": "python",
   "name": "python3"
  },
  "language_info": {
   "codemirror_mode": {
    "name": "ipython",
    "version": 3
   },
   "file_extension": ".py",
   "mimetype": "text/x-python",
   "name": "python",
   "nbconvert_exporter": "python",
   "pygments_lexer": "ipython3",
   "version": "3.11.4"
  }
 },
 "nbformat": 4,
 "nbformat_minor": 2
}
