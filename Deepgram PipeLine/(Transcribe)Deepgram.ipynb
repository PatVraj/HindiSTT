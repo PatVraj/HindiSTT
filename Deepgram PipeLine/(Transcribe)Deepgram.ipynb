{
 "cells": [
  {
   "cell_type": "code",
   "execution_count": 1,
   "metadata": {},
   "outputs": [
    {
     "name": "stdout",
     "output_type": "stream",
     "text": [
      "Requirement already satisfied: deepgram-sdk<4.0,>=3.* in /Users/vrajpatel/miniconda3/lib/python3.11/site-packages (3.1.7)\n",
      "Requirement already satisfied: httpx>=0.25.2 in /Users/vrajpatel/miniconda3/lib/python3.11/site-packages (from deepgram-sdk<4.0,>=3.*) (0.27.0)\n",
      "Requirement already satisfied: websockets>=12.0 in /Users/vrajpatel/miniconda3/lib/python3.11/site-packages (from deepgram-sdk<4.0,>=3.*) (12.0)\n",
      "Requirement already satisfied: dataclasses-json>=0.6.3 in /Users/vrajpatel/miniconda3/lib/python3.11/site-packages (from deepgram-sdk<4.0,>=3.*) (0.6.4)\n",
      "Requirement already satisfied: typing-extensions>=4.9.0 in /Users/vrajpatel/miniconda3/lib/python3.11/site-packages (from deepgram-sdk<4.0,>=3.*) (4.10.0)\n",
      "Requirement already satisfied: aiohttp>=3.9.1 in /Users/vrajpatel/miniconda3/lib/python3.11/site-packages (from deepgram-sdk<4.0,>=3.*) (3.9.3)\n",
      "Requirement already satisfied: verboselogs>=1.7 in /Users/vrajpatel/miniconda3/lib/python3.11/site-packages (from deepgram-sdk<4.0,>=3.*) (1.7)\n",
      "Requirement already satisfied: aiosignal>=1.1.2 in /Users/vrajpatel/miniconda3/lib/python3.11/site-packages (from aiohttp>=3.9.1->deepgram-sdk<4.0,>=3.*) (1.3.1)\n",
      "Requirement already satisfied: attrs>=17.3.0 in /Users/vrajpatel/miniconda3/lib/python3.11/site-packages (from aiohttp>=3.9.1->deepgram-sdk<4.0,>=3.*) (23.2.0)\n",
      "Requirement already satisfied: frozenlist>=1.1.1 in /Users/vrajpatel/miniconda3/lib/python3.11/site-packages (from aiohttp>=3.9.1->deepgram-sdk<4.0,>=3.*) (1.4.1)\n",
      "Requirement already satisfied: multidict<7.0,>=4.5 in /Users/vrajpatel/miniconda3/lib/python3.11/site-packages (from aiohttp>=3.9.1->deepgram-sdk<4.0,>=3.*) (6.0.5)\n",
      "Requirement already satisfied: yarl<2.0,>=1.0 in /Users/vrajpatel/miniconda3/lib/python3.11/site-packages (from aiohttp>=3.9.1->deepgram-sdk<4.0,>=3.*) (1.9.4)\n",
      "Requirement already satisfied: marshmallow<4.0.0,>=3.18.0 in /Users/vrajpatel/miniconda3/lib/python3.11/site-packages (from dataclasses-json>=0.6.3->deepgram-sdk<4.0,>=3.*) (3.21.0)\n",
      "Requirement already satisfied: typing-inspect<1,>=0.4.0 in /Users/vrajpatel/miniconda3/lib/python3.11/site-packages (from dataclasses-json>=0.6.3->deepgram-sdk<4.0,>=3.*) (0.9.0)\n",
      "Requirement already satisfied: anyio in /Users/vrajpatel/miniconda3/lib/python3.11/site-packages (from httpx>=0.25.2->deepgram-sdk<4.0,>=3.*) (3.7.1)\n",
      "Requirement already satisfied: certifi in /Users/vrajpatel/miniconda3/lib/python3.11/site-packages (from httpx>=0.25.2->deepgram-sdk<4.0,>=3.*) (2023.5.7)\n",
      "Requirement already satisfied: httpcore==1.* in /Users/vrajpatel/miniconda3/lib/python3.11/site-packages (from httpx>=0.25.2->deepgram-sdk<4.0,>=3.*) (1.0.4)\n",
      "Requirement already satisfied: idna in /Users/vrajpatel/miniconda3/lib/python3.11/site-packages (from httpx>=0.25.2->deepgram-sdk<4.0,>=3.*) (2.10)\n",
      "Requirement already satisfied: sniffio in /Users/vrajpatel/miniconda3/lib/python3.11/site-packages (from httpx>=0.25.2->deepgram-sdk<4.0,>=3.*) (1.3.0)\n",
      "Requirement already satisfied: h11<0.15,>=0.13 in /Users/vrajpatel/miniconda3/lib/python3.11/site-packages (from httpcore==1.*->httpx>=0.25.2->deepgram-sdk<4.0,>=3.*) (0.14.0)\n",
      "Requirement already satisfied: packaging>=17.0 in /Users/vrajpatel/miniconda3/lib/python3.11/site-packages (from marshmallow<4.0.0,>=3.18.0->dataclasses-json>=0.6.3->deepgram-sdk<4.0,>=3.*) (23.0)\n",
      "Requirement already satisfied: mypy-extensions>=0.3.0 in /Users/vrajpatel/miniconda3/lib/python3.11/site-packages (from typing-inspect<1,>=0.4.0->dataclasses-json>=0.6.3->deepgram-sdk<4.0,>=3.*) (1.0.0)\n",
      "Note: you may need to restart the kernel to use updated packages.\n",
      "Requirement already satisfied: python-dotenv in /Users/vrajpatel/miniconda3/lib/python3.11/site-packages (1.0.0)\n",
      "Note: you may need to restart the kernel to use updated packages.\n"
     ]
    }
   ],
   "source": [
    "%pip install \"deepgram-sdk>=3.*,<4.0\"\n",
    "%pip install python-dotenv"
   ]
  },
  {
   "cell_type": "code",
   "execution_count": 2,
   "metadata": {},
   "outputs": [
    {
     "ename": "RuntimeError",
     "evalue": "asyncio.run() cannot be called from a running event loop",
     "output_type": "error",
     "traceback": [
      "\u001b[0;31m---------------------------------------------------------------------------\u001b[0m",
      "\u001b[0;31mRuntimeError\u001b[0m                              Traceback (most recent call last)",
      "Cell \u001b[0;32mIn[2], line 68\u001b[0m\n\u001b[1;32m     65\u001b[0m     loop\u001b[38;5;241m.\u001b[39mclose()\n\u001b[1;32m     67\u001b[0m \u001b[38;5;28;01mif\u001b[39;00m \u001b[38;5;18m__name__\u001b[39m \u001b[38;5;241m==\u001b[39m \u001b[38;5;124m\"\u001b[39m\u001b[38;5;124m__main__\u001b[39m\u001b[38;5;124m\"\u001b[39m:\n\u001b[0;32m---> 68\u001b[0m     \u001b[43masyncio\u001b[49m\u001b[38;5;241;43m.\u001b[39;49m\u001b[43mrun\u001b[49m\u001b[43m(\u001b[49m\u001b[43mprocess_audio_files\u001b[49m\u001b[43m(\u001b[49m\u001b[43m)\u001b[49m\u001b[43m)\u001b[49m\n",
      "File \u001b[0;32m~/miniconda3/lib/python3.11/asyncio/runners.py:186\u001b[0m, in \u001b[0;36mrun\u001b[0;34m(main, debug)\u001b[0m\n\u001b[1;32m    161\u001b[0m \u001b[38;5;250m\u001b[39m\u001b[38;5;124;03m\"\"\"Execute the coroutine and return the result.\u001b[39;00m\n\u001b[1;32m    162\u001b[0m \n\u001b[1;32m    163\u001b[0m \u001b[38;5;124;03mThis function runs the passed coroutine, taking care of\u001b[39;00m\n\u001b[0;32m   (...)\u001b[0m\n\u001b[1;32m    182\u001b[0m \u001b[38;5;124;03m    asyncio.run(main())\u001b[39;00m\n\u001b[1;32m    183\u001b[0m \u001b[38;5;124;03m\"\"\"\u001b[39;00m\n\u001b[1;32m    184\u001b[0m \u001b[38;5;28;01mif\u001b[39;00m events\u001b[38;5;241m.\u001b[39m_get_running_loop() \u001b[38;5;129;01mis\u001b[39;00m \u001b[38;5;129;01mnot\u001b[39;00m \u001b[38;5;28;01mNone\u001b[39;00m:\n\u001b[1;32m    185\u001b[0m     \u001b[38;5;66;03m# fail fast with short traceback\u001b[39;00m\n\u001b[0;32m--> 186\u001b[0m     \u001b[38;5;28;01mraise\u001b[39;00m \u001b[38;5;167;01mRuntimeError\u001b[39;00m(\n\u001b[1;32m    187\u001b[0m         \u001b[38;5;124m\"\u001b[39m\u001b[38;5;124masyncio.run() cannot be called from a running event loop\u001b[39m\u001b[38;5;124m\"\u001b[39m)\n\u001b[1;32m    189\u001b[0m \u001b[38;5;28;01mwith\u001b[39;00m Runner(debug\u001b[38;5;241m=\u001b[39mdebug) \u001b[38;5;28;01mas\u001b[39;00m runner:\n\u001b[1;32m    190\u001b[0m     \u001b[38;5;28;01mreturn\u001b[39;00m runner\u001b[38;5;241m.\u001b[39mrun(main)\n",
      "\u001b[0;31mRuntimeError\u001b[0m: asyncio.run() cannot be called from a running event loop"
     ]
    }
   ],
   "source": [
    "import os\n",
    "import json\n",
    "import asyncio\n",
    "from dotenv import load_dotenv\n",
    "from deepgram import DeepgramClient, PrerecordedOptions, FileSource\n",
    "\n",
    "load_dotenv()\n",
    "\n",
    "# Load API key from environment variable\n",
    "API_KEY = os.getenv(\"5b9c236b2bbc73dbd78e0916d8d98acd6ee2bac4\")\n",
    "\n",
    "# Path to the folder containing audio files\n",
    "AUDIO_FOLDER = \"../Audio\"\n",
    "\n",
    "# Path to the folder where transcription results will be saved\n",
    "OUTPUT_FOLDER = \"/TT\"\n",
    "\n",
    "async def transcribe_audio_file(file_path, deepgram):\n",
    "    try:\n",
    "        with open(file_path, \"rb\") as file:\n",
    "            buffer_data = file.read()\n",
    "\n",
    "        payload = {\n",
    "            \"buffer\": buffer_data,\n",
    "        }\n",
    "\n",
    "        options = PrerecordedOptions(\n",
    "            model=\"nova-2\",\n",
    "            smart_format=True,\n",
    "        )\n",
    "\n",
    "        response = await deepgram.listen.prerecorded.v(\"1\").transcribe_file(payload, options)\n",
    "\n",
    "        # Save the response to a JSON file in the output folder\n",
    "        output_file_path = os.path.join(OUTPUT_FOLDER, os.path.basename(file_path).replace(\".wav\", \".json\"))\n",
    "        with open(output_file_path, \"w\") as output_file:\n",
    "            json.dump(response.to_dict(), output_file, indent=4)\n",
    "\n",
    "        print(f\"Transcription saved to {output_file_path}\")\n",
    "        print(\"-------------------------------------------------------\")\n",
    "\n",
    "    except Exception as e:\n",
    "        print(f\"Error processing {file_path}: {e}\")\n",
    "\n",
    "async def process_audio_files():\n",
    "    try:\n",
    "        # Create a Deepgram client using the API key\n",
    "        deepgram = DeepgramClient(API_KEY)\n",
    "\n",
    "        # Create the output folder if it doesn't exist\n",
    "        if not os.path.exists(OUTPUT_FOLDER):\n",
    "            os.makedirs(OUTPUT_FOLDER)\n",
    "\n",
    "        # Loop through all files in the audio folder and transcribe each one asynchronously\n",
    "        tasks = [transcribe_audio_file(os.path.join(AUDIO_FOLDER, filename), deepgram) for filename in os.listdir(AUDIO_FOLDER) if filename.endswith(\".wav\")]\n",
    "        \n",
    "        await asyncio.gather(*tasks)\n",
    "\n",
    "    except Exception as e:\n",
    "        print(f\"Exception: {e}\")\n",
    "\n",
    "def main():\n",
    "    loop = asyncio.get_event_loop()\n",
    "    loop.run_until_complete(process_audio_files())\n",
    "    loop.close()\n",
    "\n",
    "if __name__ == \"__main__\":\n",
    "    asyncio.run(process_audio_files())\n",
    "\n"
   ]
  }
 ],
 "metadata": {
  "kernelspec": {
   "display_name": "base",
   "language": "python",
   "name": "python3"
  },
  "language_info": {
   "codemirror_mode": {
    "name": "ipython",
    "version": 3
   },
   "file_extension": ".py",
   "mimetype": "text/x-python",
   "name": "python",
   "nbconvert_exporter": "python",
   "pygments_lexer": "ipython3",
   "version": "3.11.4"
  }
 },
 "nbformat": 4,
 "nbformat_minor": 2
}
