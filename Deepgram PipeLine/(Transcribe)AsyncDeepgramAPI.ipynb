{
 "cells": [
  {
   "cell_type": "code",
   "execution_count": null,
   "metadata": {},
   "outputs": [],
   "source": [
    "import os\n",
    "import asyncio\n",
    "from deepgram import Deepgram\n",
    "from dotenv import load_dotenv"
   ]
  },
  {
   "cell_type": "code",
   "execution_count": null,
   "metadata": {},
   "outputs": [],
   "source": [
    "load_dotenv()\n",
    "DEEPGRAM_API_KEY = os.getenv(\"DEEPGRAM_API_KEY\")\n",
    "\n",
    "# Set the input folder path\n",
    "input_folder = \"../Audio\"\n",
    "\n",
    "# Set the output folder path\n",
    "output_folder = \"/TT\"\n",
    "\n",
    "# Initialize the Deepgram client\n",
    "dg_client = Deepgram(DEEPGRAM_API_KEY)"
   ]
  },
  {
   "cell_type": "code",
   "execution_count": null,
   "metadata": {},
   "outputs": [],
   "source": [
    "async def transcribe_audio(audio_file):\n",
    "    \"\"\"\n",
    "    Transcribe a single audio file using the Deepgram API.\n",
    "    \"\"\"\n",
    "    try:\n",
    "        with open(audio_file, 'rb') as audio:\n",
    "            response = await dg_client.transcription.prerecorded(audio, {\n",
    "                'language': 'hi-IN',\n",
    "                'model': 'nova-2'\n",
    "            })\n",
    "        \n",
    "        # Get the base filename\n",
    "        base_filename = os.path.splitext(os.path.basename(audio_file))[0]\n",
    "        \n",
    "        # Find the next available ID for the output file\n",
    "        output_id = 1\n",
    "        output_file = os.path.join(output_folder, f\"{base_filename}_{output_id}.txt\")\n",
    "        while os.path.exists(output_file):\n",
    "            output_id += 1\n",
    "            output_file = os.path.join(output_folder, f\"{base_filename}_{output_id}.txt\")\n",
    "        \n",
    "        # Save the transcription to a file\n",
    "        with open(output_file, 'w', encoding='utf-8') as f:\n",
    "            f.write(response.text)\n",
    "        \n",
    "        print(f\"Transcription for {audio_file} saved to {output_file}\")\n",
    "    except Exception as e:\n",
    "        print(f\"Error transcribing {audio_file}: {e}\")"
   ]
  },
  {
   "cell_type": "code",
   "execution_count": null,
   "metadata": {},
   "outputs": [],
   "source": [
    "async def main():\n",
    "    \"\"\"\n",
    "    Transcribe all audio files in the input folder using asynchronous API calls.\n",
    "    \"\"\"\n",
    "    audio_files = [os.path.join(input_folder, f) for f in os.listdir(input_folder) if f.endswith(\".wav\")]\n",
    "    \n",
    "    await asyncio.gather(*[transcribe_audio(audio_file) for audio_file in audio_files])\n",
    "\n",
    "if __name__ == \"__main__\":\n",
    "    asyncio.run(main())"
   ]
  }
 ],
 "metadata": {
  "language_info": {
   "name": "python"
  }
 },
 "nbformat": 4,
 "nbformat_minor": 2
}
